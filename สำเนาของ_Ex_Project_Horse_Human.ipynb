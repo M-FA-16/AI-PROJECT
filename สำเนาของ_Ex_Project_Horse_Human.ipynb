{
  "cells": [
    {
      "cell_type": "markdown",
      "metadata": {
        "id": "view-in-github",
        "colab_type": "text"
      },
      "source": [
        "<a href=\"https://colab.research.google.com/github/M-FA-16/AI-PROJECT/blob/main/%E0%B8%AA%E0%B8%B3%E0%B9%80%E0%B8%99%E0%B8%B2%E0%B8%82%E0%B8%AD%E0%B8%87_Ex_Project_Horse_Human.ipynb\" target=\"_parent\"><img src=\"https://colab.research.google.com/assets/colab-badge.svg\" alt=\"Open In Colab\"/></a>"
      ]
    },
    {
      "cell_type": "markdown",
      "source": [
        "##Example CNN\n",
        "\n",
        "หากต้องการทดสอบการรัน ให้ดาวโหลด dataset ตามลิงค์ดังนี้\n",
        "\n",
        "Train data: https://drive.google.com/file/d/1ur1TvCAFOY4dx_hGPi7nJMkA38RUZ6AC\n",
        "\n",
        "Test data: https://drive.google.com/file/d/1CO9ucFiaRZCBcSFCxXrQcDmPAvyYoQl9\n",
        "\n",
        "และนำไปวางใน drive ของคุณเอง และเปลี่ยน path ให้ตรงตำแหน่งของ drive คุณ"
      ],
      "metadata": {
        "id": "5XZsiBfcGPxl"
      }
    },
    {
      "cell_type": "markdown",
      "source": [
        "##1. การนำเข้าไลบรารีที่จำเป็น"
      ],
      "metadata": {
        "id": "G0NemL5utiXk"
      }
    },
    {
      "cell_type": "code",
      "source": [
        "import os\n",
        "import zipfile\n",
        "import tensorflow as tf\n",
        "from tensorflow.keras import utils\n",
        "from tensorflow.keras.metrics import Precision, Recall, F1Score\n",
        "import matplotlib.pyplot as plt\n",
        "import numpy as np\n",
        "from google.colab import files"
      ],
      "outputs": [],
      "execution_count": null,
      "metadata": {
        "id": "FnYrmTNutiXl"
      }
    },
    {
      "cell_type": "markdown",
      "source": [
        "*   **`import os`**: ไลบรารี `os` ใช้สำหรับจัดการไฟล์และไดเรกทอรี เช่น การตรวจสอบว่ามีไฟล์อยู่หรือไม่, การสร้างไดเรกทอรี, การอ่านรายชื่อไฟล์ในไดเรกทอรี\n",
        "*   **`import zipfile`**: ไลบรารี `zipfile` ใช้สำหรับจัดการไฟล์ ZIP เช่น การแตกไฟล์ ZIP\n",
        "*   **`import tensorflow as tf`**: ไลบรารี `tensorflow` เป็นไลบรารีหลักสำหรับการสร้างและฝึกโมเดล Deep Learning\n",
        "*   **`from tensorflow.keras import utils`**:  นำเข้า `utils` ซึ่งมีฟังก์ชันอำนวยความสะดวกในการจัดการข้อมูล เช่น การโหลดชุดข้อมูลรูปภาพ (`image_dataset_from_directory`)\n",
        "*   **`import matplotlib.pyplot as plt`**: ไลบรารี `matplotlib` ใช้สำหรับวาดกราฟ เพื่อแสดงผลลัพธ์ต่างๆ เช่น ความแม่นยำ (accuracy) และค่า loss\n",
        "*   **`import numpy as np`**: ไลบรารี `numpy` ใช้สำหรับการคำนวณทางคณิตศาสตร์ที่เกี่ยวข้องกับอาร์เรย์ (arrays) ซึ่งเป็นโครงสร้างข้อมูลพื้นฐานของ TensorFlow\n",
        "*   **`from google.colab import files`**: (เฉพาะเมื่อรันบน Google Colab) ใช้สำหรับอัปโหลด/ดาวน์โหลดไฟล์จากเครื่อง local ไปยัง Colab\n",
        "*   **`from google.colab import drive`**: เป็นการ import ไลบรารี `drive` จาก `google.colab` ซึ่งใช้สำหรับเชื่อมต่อ Google Colab กับ Google Drive ของเรา ทำให้เราสามารถเข้าถึงไฟล์ที่เก็บไว้ใน Google Drive ได้โดยตรง\n"
      ],
      "metadata": {
        "id": "31oorKWKtiXm"
      }
    },
    {
      "cell_type": "markdown",
      "source": [
        "##2. การเชื่อมต่อกับ Google Drive และแตกไฟล์ ZIP"
      ],
      "metadata": {
        "id": "zUG0eBIR2JWm"
      }
    },
    {
      "cell_type": "code",
      "source": [
        "from google.colab import drive\n",
        "drive.mount('/content/drive')\n",
        "\n",
        "# Train dataset path in Google Drive\n",
        "local_zip = '/content/drive/MyDrive/horse-or-human.zip'\n",
        "zip_ref = zipfile.ZipFile(local_zip, 'r')\n",
        "zip_ref.extractall('/tmp/horse-or-human')\n",
        "\n",
        "# Test dataset path in Google Drive\n",
        "local_zip = '/content/drive/MyDrive/horse-or-human.zip'\n",
        "zip_ref = zipfile.ZipFile(local_zip, 'r')\n",
        "zip_ref.extractall('/tmp/test-horse-or-human')\n",
        "zip_ref.close()"
      ],
      "outputs": [
        {
          "output_type": "stream",
          "name": "stdout",
          "text": [
            "Drive already mounted at /content/drive; to attempt to forcibly remount, call drive.mount(\"/content/drive\", force_remount=True).\n"
          ]
        }
      ],
      "execution_count": null,
      "metadata": {
        "id": "BOLWAnyUtiXn",
        "colab": {
          "base_uri": "https://localhost:8080/"
        },
        "outputId": "f49c9d57-5d6a-463e-ea48-41d752a69819"
      }
    },
    {
      "cell_type": "markdown",
      "source": [
        "from google.colab import drive\n",
        "drive.mount('/content/drive')"
      ],
      "metadata": {
        "id": "1jIs0nHo9s18"
      }
    },
    {
      "cell_type": "code",
      "source": [
        "from google.colab import drive\n",
        "drive.mount('/content/drive')"
      ],
      "metadata": {
        "id": "REfY78z-96qG",
        "colab": {
          "base_uri": "https://localhost:8080/"
        },
        "outputId": "4a0d1ea6-607e-403f-ab43-3f57fd07e8d2"
      },
      "execution_count": null,
      "outputs": [
        {
          "output_type": "stream",
          "name": "stdout",
          "text": [
            "Drive already mounted at /content/drive; to attempt to forcibly remount, call drive.mount(\"/content/drive\", force_remount=True).\n"
          ]
        }
      ]
    },
    {
      "cell_type": "markdown",
      "source": [
        "*   **`drive.mount('/content/drive')`**:  คำสั่งนี้เป็นการ \"mount\" หรือเชื่อมต่อ Google Drive เข้ากับ Colab notebook  ที่ path `/content/drive` หลังจากรันคำสั่งนี้ เราจะสามารถเข้าถึงไฟล์ใน Google Drive ได้เหมือนกับเป็นไฟล์ที่อยู่ในเครื่อง Colab (จะต้องอนุญาตสิทธิการเข้าถึง Drive)\n",
        "*   **`local_zip = ...`**: กำหนดตัวแปร `local_zip` ให้เก็บ path ของไฟล์ ZIP ที่อยู่ใน Google Drive (ทั้งชุดข้อมูล train และ test)\n",
        "*   **`zip_ref = zipfile.ZipFile(local_zip, 'r')`**:  สร้าง object `zip_ref` เพื่อเปิดไฟล์ ZIP ในโหมดอ่าน ('r')\n",
        "*   **`zip_ref.extractall('/tmp/horse-or-human')`**: แตกไฟล์ ZIP ทั้งหมดไปไว้ที่ `/tmp/horse-or-human` (และ `/tmp/test-horse-or-human` สำหรับชุดข้อมูล test) ใน Colab\n",
        "*   **`zip_ref.close()`**: ปิดไฟล์ ZIP หลังจากแตกไฟล์เสร็จ\n"
      ],
      "metadata": {
        "id": "AlB8WtjrtiXn"
      }
    },
    {
      "cell_type": "markdown",
      "source": [
        "##3. การกำหนด Path ของไดเรกทอรี และแสดงตัวอย่างไฟล์"
      ],
      "metadata": {
        "id": "RDyZxTrs2QzA"
      }
    },
    {
      "cell_type": "code",
      "source": [
        "# Directory with our training horse pictures\n",
        "train_horse_dir = os.path.join('/tmp/horse-or-human/horses')\n",
        "# Directory with our training human pictures\n",
        "train_human_dir = os.path.join('/tmp/horse-or-human/humans')\n",
        "\n",
        "# Directory with our training horse pictures\n",
        "test_horse_dir = os.path.join('/tmp/test-horse-or-human/horses')\n",
        "test_human_dir = os.path.join('/tmp/test-horse-or-human/humans')\n",
        "\n",
        "train_horse_names = os.listdir('/tmp/horse-or-human/horses')\n",
        "print('Directory: horse-or-human/horses')\n",
        "print(train_horse_names[:5], '\\n')\n",
        "\n",
        "train_human_names = os.listdir('/tmp/horse-or-human/humans')\n",
        "print('Directory: horse-or-human/humans')\n",
        "print(train_human_names[:5], '\\n')\n",
        "\n",
        "test_horse_hames = os.listdir('/tmp/test-horse-or-human/horses')\n",
        "print('Directory: test-horse-or-human/horses')\n",
        "print(test_horse_hames[:5], '\\n')\n",
        "\n",
        "test_human_names = os.listdir('/tmp/test-horse-or-human/humans')\n",
        "print('Directory: test-horse-or-human/humans')\n",
        "print(test_human_names[:5], '\\n')"
      ],
      "outputs": [
        {
          "output_type": "stream",
          "name": "stdout",
          "text": [
            "Directory: horse-or-human/horses\n",
            "['horse05-3.png', 'horse39-2.png', 'horse41-6.png', 'horse08-3.png', 'horse45-3.png'] \n",
            "\n",
            "Directory: horse-or-human/humans\n",
            "['human15-04.png', 'human16-22.png', 'human13-05.png', 'human08-21.png', 'human06-04.png'] \n",
            "\n",
            "Directory: test-horse-or-human/horses\n",
            "['horse05-3.png', 'horse39-2.png', 'horse41-6.png', 'horse08-3.png', 'horse45-3.png'] \n",
            "\n",
            "Directory: test-horse-or-human/humans\n",
            "['human15-04.png', 'human16-22.png', 'human13-05.png', 'human08-21.png', 'human06-04.png'] \n",
            "\n"
          ]
        }
      ],
      "execution_count": null,
      "metadata": {
        "id": "QdFDWYBstiXn",
        "colab": {
          "base_uri": "https://localhost:8080/"
        },
        "outputId": "c0dbb183-cafa-4ef6-c5f6-4c6c7c0a2523"
      }
    },
    {
      "cell_type": "markdown",
      "source": [
        "*   **`train_horse_dir = ...`**: กำหนด path ของไดเรกทอรีที่เก็บรูปภาพ \"ม้า\" สำหรับ train\n",
        "*   **`train_human_dir = ...`**: กำหนด path ของไดเรกทอรีที่เก็บรูปภาพ \"คน\" สำหรับ train\n",
        "*    **`test_horse_dir = ...`**: กำหนด path ของไดเรกทอรีที่เก็บรูปภาพ \"ม้า\" สำหรับ test\n",
        "*   **`test_human_dir = ...`**: กำหนด path ของไดเรกทอรีที่เก็บรูปภาพ \"คน\" สำหรับ test\n",
        "*   **`train_horse_names = os.listdir(...)`**: ใช้ `os.listdir()` เพื่ออ่านรายชื่อไฟล์ทั้งหมดในไดเรกทอรีรูปภาพ \"ม้า\" สำหรับ train และเก็บไว้ในตัวแปร `train_horse_names`\n",
        "*   **`print(train_horse_names[:5], '\\n')`**: แสดงรายชื่อ 5 ไฟล์แรก เพื่อให้เห็นตัวอย่าง\n",
        "*   ทำซ้ำแบบเดียวกันสำหรับรูปภาพ \"คน\" และชุดข้อมูล test\n",
        "\n"
      ],
      "metadata": {
        "id": "j1p950cHtiXn"
      }
    },
    {
      "cell_type": "markdown",
      "source": [
        "##4. กำหนดขนาดรูปภาพและ Input Shape"
      ],
      "metadata": {
        "id": "Gwyw8G2t2VEK"
      }
    },
    {
      "cell_type": "code",
      "source": [
        "IMAGE_SIZE = (150, 150)\n",
        "INPUT_SHAPE = (150, 150, 3)"
      ],
      "outputs": [],
      "execution_count": null,
      "metadata": {
        "id": "MEYU5y1atiXo"
      }
    },
    {
      "cell_type": "markdown",
      "source": [
        "* **`IMAGE_SIZE = (150, 150)`**: กำหนดขนาดรูปภาพที่จะใช้เป็น input ของโมเดล  ในที่นี้คือ 150x150 พิกเซล\n",
        "* **`INPUT_SHAPE = (150, 150, 3)`**:  กำหนดรูปร่าง (shape) ของ input ที่จะป้อนให้กับโมเดล  \n",
        "    *   150, 150 คือ ขนาดกว้างและสูงของรูปภาพ\n",
        "    *   3 คือ จำนวนช่องสี (channel)  โดยทั่วไปคือ RGB (แดง, เขียว, น้ำเงิน)\n"
      ],
      "metadata": {
        "id": "MEB0_RJ1tiXo"
      }
    },
    {
      "cell_type": "markdown",
      "source": [
        "##5. โหลดชุดข้อมูลด้วย `image_dataset_from_directory`"
      ],
      "metadata": {
        "id": "VtbRvszs2YG0"
      }
    },
    {
      "cell_type": "code",
      "source": [
        "train_dataset = utils.image_dataset_from_directory(\n",
        "    '/tmp/horse-or-human',\n",
        "    image_size=IMAGE_SIZE,\n",
        "    batch_size=128,\n",
        "    label_mode='binary'\n",
        "    )\n",
        "\n",
        "test_dataset = utils.image_dataset_from_directory(\n",
        "    '/tmp/test-horse-or-human',\n",
        "    image_size=IMAGE_SIZE,\n",
        "    batch_size=128,\n",
        "    label_mode='binary',\n",
        "    shuffle=False\n",
        "    )"
      ],
      "outputs": [
        {
          "output_type": "stream",
          "name": "stdout",
          "text": [
            "Found 1027 files belonging to 2 classes.\n",
            "Found 1027 files belonging to 2 classes.\n"
          ]
        }
      ],
      "execution_count": null,
      "metadata": {
        "id": "8HG-QXFVtiXo",
        "colab": {
          "base_uri": "https://localhost:8080/"
        },
        "outputId": "b4bf4ccf-51f0-43e9-9601-6ab5e4e10c49"
      }
    },
    {
      "cell_type": "markdown",
      "source": [
        "*   **`utils.image_dataset_from_directory(...)`**:  เป็นฟังก์ชันที่สะดวกมากจาก Keras  ใช้สำหรับโหลดชุดข้อมูลรูปภาพจากไดเรกทอรีโดยตรง\n",
        "*   **`/tmp/horse-or-human`**:  Path ของไดเรกทอรีหลักของชุดข้อมูล train (ซึ่งมี subdirectory `horses` และ `humans`)\n",
        "*   **`image_size=IMAGE_SIZE`**:  ปรับขนาดรูปภาพทั้งหมดให้เป็นขนาดที่กำหนด (150x150)\n",
        "*   **`batch_size=128`**:  กำหนดขนาด batch  คือ จำนวนรูปภาพที่จะถูกประมวลผลพร้อมกันในแต่ละรอบการ train\n",
        "*   **`label_mode='binary'`**:  กำหนดว่า label (คำตอบ) จะเป็นแบบ binary (0 หรือ 1)  ในที่นี้คือ 0 แทน \"ม้า\" และ 1 แทน \"คน\" (กรณีมี class มากกว่า 2 กำหนดเป็น `label_mode='categorical'`)\n",
        "* โหลด test_dataset ในลักษณะเดียวกัน โดยเพิ่ม `shuffle=False` ให้โหลดทดสอบโดยไม่ต้องสุ่ม เพื่อการสร้าง confusion matrix ที่ถูกต้อง (ตามลำดับของ label)"
      ],
      "metadata": {
        "id": "CYn8_jtGtiXo"
      }
    },
    {
      "cell_type": "markdown",
      "source": [
        "##6. สร้างโมเดล Convolutional Neural Network (CNN)"
      ],
      "metadata": {
        "id": "Z4qoP6y52bnR"
      }
    },
    {
      "cell_type": "code",
      "source": [
        "model = tf.keras.models.Sequential([\n",
        "    tf.keras.Input(shape=INPUT_SHAPE),\n",
        "    tf.keras.layers.Conv2D(16, (3,3), activation='relu'),\n",
        "    tf.keras.layers.MaxPooling2D(2, 2),\n",
        "    tf.keras.layers.Conv2D(32, (3,3), activation='relu'),\n",
        "    tf.keras.layers.MaxPooling2D(2,2),\n",
        "    tf.keras.layers.Conv2D(64, (3,3), activation='relu'),\n",
        "    tf.keras.layers.MaxPooling2D(2,2),\n",
        "    tf.keras.layers.Conv2D(64, (3,3), activation='relu'),\n",
        "    tf.keras.layers.MaxPooling2D(2,2),\n",
        "    tf.keras.layers.Conv2D(64, (3,3), activation='relu'),\n",
        "    tf.keras.layers.MaxPooling2D(2,2),\n",
        "    tf.keras.layers.Flatten(),\n",
        "    tf.keras.layers.Dense(512, activation='relu'),\n",
        "    tf.keras.layers.Dense(1, activation='sigmoid')\n",
        "])"
      ],
      "outputs": [],
      "execution_count": null,
      "metadata": {
        "id": "F2PxWlUDtiXo"
      }
    },
    {
      "cell_type": "markdown",
      "source": [
        "*   **`tf.keras.models.Sequential(...)`**:  สร้างโมเดลแบบ Sequential  คือ โมเดลที่มี layers ต่อกันเป็นลำดับ\n",
        "*   **`tf.keras.Input(shape=INPUT_SHAPE)`**:  กำหนด input layer  โดยระบุ shape ของ input\n",
        "*   **`tf.keras.layers.Conv2D(16, (3,3), activation='relu')`**:  สร้าง Convolutional layer\n",
        "    *   `16` คือ จำนวน filters (หรือ kernels)\n",
        "    *   `(3,3)` คือ ขนาดของ filter (3x3)\n",
        "    *   `activation='relu'` คือ ใช้ ReLU (Rectified Linear Unit) เป็น activation function\n",
        "*   **`tf.keras.layers.MaxPooling2D(2, 2)`**:  สร้าง Max Pooling layer  เพื่อลดขนาด feature maps  โดยเลือกค่าสูงสุดในแต่ละกรอบขนาด 2x2\n",
        "*   ทำซ้ำ Convolutional และ Max Pooling layers อีก 4 ครั้ง  โดยเพิ่มจำนวน filters ขึ้นเรื่อยๆ\n",
        "*   **`tf.keras.layers.Flatten()`**:  Flatten layer ทำหน้าที่แปลง feature maps ที่เป็น 2D (หรือ 3D) ให้เป็น 1D vector  เพื่อเตรียมป้อนให้กับ Dense layer\n",
        "*   **`tf.keras.layers.Dense(512, activation='relu')`**:  Dense layer (Fully connected layer)  มี 512 neurons และใช้ ReLU activation\n",
        "*   **`tf.keras.layers.Dense(1, activation='sigmoid')`**:  Output layer  มี 1 neuron  และใช้ Sigmoid activation  เพราะเราต้องการ output ที่เป็นค่าระหว่าง 0 ถึง 1 (ความน่าจะเป็นที่จะเป็น \"คน\")\n",
        "\n",
        "**ข้อสำคัญ**\n",
        "\n",
        "* กรณีมี class มากกว่า 2 class ต้องปรับ output layer เป็น ```tf.keras.layers.Dense(NUM_CLASSES, activation='softmax'```\n",
        "* Output Layer: Dense layer สุดท้ายต้องมีจำนวน neurons เท่ากับจำนวน classes และใช้ softmax activation. softmax จะให้ output เป็น probability distribution คือ ค่าความน่าจะเป็นของแต่ละ class รวมกันได้ 1."
      ],
      "metadata": {
        "id": "4vn4y0QRtiXo"
      }
    },
    {
      "cell_type": "markdown",
      "source": [
        "##7. แสดง Summary ของโมเดล"
      ],
      "metadata": {
        "id": "fhquodx92ggD"
      }
    },
    {
      "cell_type": "code",
      "source": [
        "model.summary()"
      ],
      "outputs": [
        {
          "output_type": "display_data",
          "data": {
            "text/plain": [
              "\u001b[1mModel: \"sequential\"\u001b[0m\n"
            ],
            "text/html": [
              "<pre style=\"white-space:pre;overflow-x:auto;line-height:normal;font-family:Menlo,'DejaVu Sans Mono',consolas,'Courier New',monospace\"><span style=\"font-weight: bold\">Model: \"sequential\"</span>\n",
              "</pre>\n"
            ]
          },
          "metadata": {}
        },
        {
          "output_type": "display_data",
          "data": {
            "text/plain": [
              "┏━━━━━━━━━━━━━━━━━━━━━━━━━━━━━━━━━━━━━━┳━━━━━━━━━━━━━━━━━━━━━━━━━━━━━┳━━━━━━━━━━━━━━━━━┓\n",
              "┃\u001b[1m \u001b[0m\u001b[1mLayer (type)                        \u001b[0m\u001b[1m \u001b[0m┃\u001b[1m \u001b[0m\u001b[1mOutput Shape               \u001b[0m\u001b[1m \u001b[0m┃\u001b[1m \u001b[0m\u001b[1m        Param #\u001b[0m\u001b[1m \u001b[0m┃\n",
              "┡━━━━━━━━━━━━━━━━━━━━━━━━━━━━━━━━━━━━━━╇━━━━━━━━━━━━━━━━━━━━━━━━━━━━━╇━━━━━━━━━━━━━━━━━┩\n",
              "│ conv2d (\u001b[38;5;33mConv2D\u001b[0m)                      │ (\u001b[38;5;45mNone\u001b[0m, \u001b[38;5;34m148\u001b[0m, \u001b[38;5;34m148\u001b[0m, \u001b[38;5;34m16\u001b[0m)        │             \u001b[38;5;34m448\u001b[0m │\n",
              "├──────────────────────────────────────┼─────────────────────────────┼─────────────────┤\n",
              "│ max_pooling2d (\u001b[38;5;33mMaxPooling2D\u001b[0m)         │ (\u001b[38;5;45mNone\u001b[0m, \u001b[38;5;34m74\u001b[0m, \u001b[38;5;34m74\u001b[0m, \u001b[38;5;34m16\u001b[0m)          │               \u001b[38;5;34m0\u001b[0m │\n",
              "├──────────────────────────────────────┼─────────────────────────────┼─────────────────┤\n",
              "│ conv2d_1 (\u001b[38;5;33mConv2D\u001b[0m)                    │ (\u001b[38;5;45mNone\u001b[0m, \u001b[38;5;34m72\u001b[0m, \u001b[38;5;34m72\u001b[0m, \u001b[38;5;34m32\u001b[0m)          │           \u001b[38;5;34m4,640\u001b[0m │\n",
              "├──────────────────────────────────────┼─────────────────────────────┼─────────────────┤\n",
              "│ max_pooling2d_1 (\u001b[38;5;33mMaxPooling2D\u001b[0m)       │ (\u001b[38;5;45mNone\u001b[0m, \u001b[38;5;34m36\u001b[0m, \u001b[38;5;34m36\u001b[0m, \u001b[38;5;34m32\u001b[0m)          │               \u001b[38;5;34m0\u001b[0m │\n",
              "├──────────────────────────────────────┼─────────────────────────────┼─────────────────┤\n",
              "│ conv2d_2 (\u001b[38;5;33mConv2D\u001b[0m)                    │ (\u001b[38;5;45mNone\u001b[0m, \u001b[38;5;34m34\u001b[0m, \u001b[38;5;34m34\u001b[0m, \u001b[38;5;34m64\u001b[0m)          │          \u001b[38;5;34m18,496\u001b[0m │\n",
              "├──────────────────────────────────────┼─────────────────────────────┼─────────────────┤\n",
              "│ max_pooling2d_2 (\u001b[38;5;33mMaxPooling2D\u001b[0m)       │ (\u001b[38;5;45mNone\u001b[0m, \u001b[38;5;34m17\u001b[0m, \u001b[38;5;34m17\u001b[0m, \u001b[38;5;34m64\u001b[0m)          │               \u001b[38;5;34m0\u001b[0m │\n",
              "├──────────────────────────────────────┼─────────────────────────────┼─────────────────┤\n",
              "│ conv2d_3 (\u001b[38;5;33mConv2D\u001b[0m)                    │ (\u001b[38;5;45mNone\u001b[0m, \u001b[38;5;34m15\u001b[0m, \u001b[38;5;34m15\u001b[0m, \u001b[38;5;34m64\u001b[0m)          │          \u001b[38;5;34m36,928\u001b[0m │\n",
              "├──────────────────────────────────────┼─────────────────────────────┼─────────────────┤\n",
              "│ max_pooling2d_3 (\u001b[38;5;33mMaxPooling2D\u001b[0m)       │ (\u001b[38;5;45mNone\u001b[0m, \u001b[38;5;34m7\u001b[0m, \u001b[38;5;34m7\u001b[0m, \u001b[38;5;34m64\u001b[0m)            │               \u001b[38;5;34m0\u001b[0m │\n",
              "├──────────────────────────────────────┼─────────────────────────────┼─────────────────┤\n",
              "│ conv2d_4 (\u001b[38;5;33mConv2D\u001b[0m)                    │ (\u001b[38;5;45mNone\u001b[0m, \u001b[38;5;34m5\u001b[0m, \u001b[38;5;34m5\u001b[0m, \u001b[38;5;34m64\u001b[0m)            │          \u001b[38;5;34m36,928\u001b[0m │\n",
              "├──────────────────────────────────────┼─────────────────────────────┼─────────────────┤\n",
              "│ max_pooling2d_4 (\u001b[38;5;33mMaxPooling2D\u001b[0m)       │ (\u001b[38;5;45mNone\u001b[0m, \u001b[38;5;34m2\u001b[0m, \u001b[38;5;34m2\u001b[0m, \u001b[38;5;34m64\u001b[0m)            │               \u001b[38;5;34m0\u001b[0m │\n",
              "├──────────────────────────────────────┼─────────────────────────────┼─────────────────┤\n",
              "│ flatten (\u001b[38;5;33mFlatten\u001b[0m)                    │ (\u001b[38;5;45mNone\u001b[0m, \u001b[38;5;34m256\u001b[0m)                 │               \u001b[38;5;34m0\u001b[0m │\n",
              "├──────────────────────────────────────┼─────────────────────────────┼─────────────────┤\n",
              "│ dense (\u001b[38;5;33mDense\u001b[0m)                        │ (\u001b[38;5;45mNone\u001b[0m, \u001b[38;5;34m512\u001b[0m)                 │         \u001b[38;5;34m131,584\u001b[0m │\n",
              "├──────────────────────────────────────┼─────────────────────────────┼─────────────────┤\n",
              "│ dense_1 (\u001b[38;5;33mDense\u001b[0m)                      │ (\u001b[38;5;45mNone\u001b[0m, \u001b[38;5;34m1\u001b[0m)                   │             \u001b[38;5;34m513\u001b[0m │\n",
              "└──────────────────────────────────────┴─────────────────────────────┴─────────────────┘\n"
            ],
            "text/html": [
              "<pre style=\"white-space:pre;overflow-x:auto;line-height:normal;font-family:Menlo,'DejaVu Sans Mono',consolas,'Courier New',monospace\">┏━━━━━━━━━━━━━━━━━━━━━━━━━━━━━━━━━━━━━━┳━━━━━━━━━━━━━━━━━━━━━━━━━━━━━┳━━━━━━━━━━━━━━━━━┓\n",
              "┃<span style=\"font-weight: bold\"> Layer (type)                         </span>┃<span style=\"font-weight: bold\"> Output Shape                </span>┃<span style=\"font-weight: bold\">         Param # </span>┃\n",
              "┡━━━━━━━━━━━━━━━━━━━━━━━━━━━━━━━━━━━━━━╇━━━━━━━━━━━━━━━━━━━━━━━━━━━━━╇━━━━━━━━━━━━━━━━━┩\n",
              "│ conv2d (<span style=\"color: #0087ff; text-decoration-color: #0087ff\">Conv2D</span>)                      │ (<span style=\"color: #00d7ff; text-decoration-color: #00d7ff\">None</span>, <span style=\"color: #00af00; text-decoration-color: #00af00\">148</span>, <span style=\"color: #00af00; text-decoration-color: #00af00\">148</span>, <span style=\"color: #00af00; text-decoration-color: #00af00\">16</span>)        │             <span style=\"color: #00af00; text-decoration-color: #00af00\">448</span> │\n",
              "├──────────────────────────────────────┼─────────────────────────────┼─────────────────┤\n",
              "│ max_pooling2d (<span style=\"color: #0087ff; text-decoration-color: #0087ff\">MaxPooling2D</span>)         │ (<span style=\"color: #00d7ff; text-decoration-color: #00d7ff\">None</span>, <span style=\"color: #00af00; text-decoration-color: #00af00\">74</span>, <span style=\"color: #00af00; text-decoration-color: #00af00\">74</span>, <span style=\"color: #00af00; text-decoration-color: #00af00\">16</span>)          │               <span style=\"color: #00af00; text-decoration-color: #00af00\">0</span> │\n",
              "├──────────────────────────────────────┼─────────────────────────────┼─────────────────┤\n",
              "│ conv2d_1 (<span style=\"color: #0087ff; text-decoration-color: #0087ff\">Conv2D</span>)                    │ (<span style=\"color: #00d7ff; text-decoration-color: #00d7ff\">None</span>, <span style=\"color: #00af00; text-decoration-color: #00af00\">72</span>, <span style=\"color: #00af00; text-decoration-color: #00af00\">72</span>, <span style=\"color: #00af00; text-decoration-color: #00af00\">32</span>)          │           <span style=\"color: #00af00; text-decoration-color: #00af00\">4,640</span> │\n",
              "├──────────────────────────────────────┼─────────────────────────────┼─────────────────┤\n",
              "│ max_pooling2d_1 (<span style=\"color: #0087ff; text-decoration-color: #0087ff\">MaxPooling2D</span>)       │ (<span style=\"color: #00d7ff; text-decoration-color: #00d7ff\">None</span>, <span style=\"color: #00af00; text-decoration-color: #00af00\">36</span>, <span style=\"color: #00af00; text-decoration-color: #00af00\">36</span>, <span style=\"color: #00af00; text-decoration-color: #00af00\">32</span>)          │               <span style=\"color: #00af00; text-decoration-color: #00af00\">0</span> │\n",
              "├──────────────────────────────────────┼─────────────────────────────┼─────────────────┤\n",
              "│ conv2d_2 (<span style=\"color: #0087ff; text-decoration-color: #0087ff\">Conv2D</span>)                    │ (<span style=\"color: #00d7ff; text-decoration-color: #00d7ff\">None</span>, <span style=\"color: #00af00; text-decoration-color: #00af00\">34</span>, <span style=\"color: #00af00; text-decoration-color: #00af00\">34</span>, <span style=\"color: #00af00; text-decoration-color: #00af00\">64</span>)          │          <span style=\"color: #00af00; text-decoration-color: #00af00\">18,496</span> │\n",
              "├──────────────────────────────────────┼─────────────────────────────┼─────────────────┤\n",
              "│ max_pooling2d_2 (<span style=\"color: #0087ff; text-decoration-color: #0087ff\">MaxPooling2D</span>)       │ (<span style=\"color: #00d7ff; text-decoration-color: #00d7ff\">None</span>, <span style=\"color: #00af00; text-decoration-color: #00af00\">17</span>, <span style=\"color: #00af00; text-decoration-color: #00af00\">17</span>, <span style=\"color: #00af00; text-decoration-color: #00af00\">64</span>)          │               <span style=\"color: #00af00; text-decoration-color: #00af00\">0</span> │\n",
              "├──────────────────────────────────────┼─────────────────────────────┼─────────────────┤\n",
              "│ conv2d_3 (<span style=\"color: #0087ff; text-decoration-color: #0087ff\">Conv2D</span>)                    │ (<span style=\"color: #00d7ff; text-decoration-color: #00d7ff\">None</span>, <span style=\"color: #00af00; text-decoration-color: #00af00\">15</span>, <span style=\"color: #00af00; text-decoration-color: #00af00\">15</span>, <span style=\"color: #00af00; text-decoration-color: #00af00\">64</span>)          │          <span style=\"color: #00af00; text-decoration-color: #00af00\">36,928</span> │\n",
              "├──────────────────────────────────────┼─────────────────────────────┼─────────────────┤\n",
              "│ max_pooling2d_3 (<span style=\"color: #0087ff; text-decoration-color: #0087ff\">MaxPooling2D</span>)       │ (<span style=\"color: #00d7ff; text-decoration-color: #00d7ff\">None</span>, <span style=\"color: #00af00; text-decoration-color: #00af00\">7</span>, <span style=\"color: #00af00; text-decoration-color: #00af00\">7</span>, <span style=\"color: #00af00; text-decoration-color: #00af00\">64</span>)            │               <span style=\"color: #00af00; text-decoration-color: #00af00\">0</span> │\n",
              "├──────────────────────────────────────┼─────────────────────────────┼─────────────────┤\n",
              "│ conv2d_4 (<span style=\"color: #0087ff; text-decoration-color: #0087ff\">Conv2D</span>)                    │ (<span style=\"color: #00d7ff; text-decoration-color: #00d7ff\">None</span>, <span style=\"color: #00af00; text-decoration-color: #00af00\">5</span>, <span style=\"color: #00af00; text-decoration-color: #00af00\">5</span>, <span style=\"color: #00af00; text-decoration-color: #00af00\">64</span>)            │          <span style=\"color: #00af00; text-decoration-color: #00af00\">36,928</span> │\n",
              "├──────────────────────────────────────┼─────────────────────────────┼─────────────────┤\n",
              "│ max_pooling2d_4 (<span style=\"color: #0087ff; text-decoration-color: #0087ff\">MaxPooling2D</span>)       │ (<span style=\"color: #00d7ff; text-decoration-color: #00d7ff\">None</span>, <span style=\"color: #00af00; text-decoration-color: #00af00\">2</span>, <span style=\"color: #00af00; text-decoration-color: #00af00\">2</span>, <span style=\"color: #00af00; text-decoration-color: #00af00\">64</span>)            │               <span style=\"color: #00af00; text-decoration-color: #00af00\">0</span> │\n",
              "├──────────────────────────────────────┼─────────────────────────────┼─────────────────┤\n",
              "│ flatten (<span style=\"color: #0087ff; text-decoration-color: #0087ff\">Flatten</span>)                    │ (<span style=\"color: #00d7ff; text-decoration-color: #00d7ff\">None</span>, <span style=\"color: #00af00; text-decoration-color: #00af00\">256</span>)                 │               <span style=\"color: #00af00; text-decoration-color: #00af00\">0</span> │\n",
              "├──────────────────────────────────────┼─────────────────────────────┼─────────────────┤\n",
              "│ dense (<span style=\"color: #0087ff; text-decoration-color: #0087ff\">Dense</span>)                        │ (<span style=\"color: #00d7ff; text-decoration-color: #00d7ff\">None</span>, <span style=\"color: #00af00; text-decoration-color: #00af00\">512</span>)                 │         <span style=\"color: #00af00; text-decoration-color: #00af00\">131,584</span> │\n",
              "├──────────────────────────────────────┼─────────────────────────────┼─────────────────┤\n",
              "│ dense_1 (<span style=\"color: #0087ff; text-decoration-color: #0087ff\">Dense</span>)                      │ (<span style=\"color: #00d7ff; text-decoration-color: #00d7ff\">None</span>, <span style=\"color: #00af00; text-decoration-color: #00af00\">1</span>)                   │             <span style=\"color: #00af00; text-decoration-color: #00af00\">513</span> │\n",
              "└──────────────────────────────────────┴─────────────────────────────┴─────────────────┘\n",
              "</pre>\n"
            ]
          },
          "metadata": {}
        },
        {
          "output_type": "display_data",
          "data": {
            "text/plain": [
              "\u001b[1m Total params: \u001b[0m\u001b[38;5;34m229,537\u001b[0m (896.63 KB)\n"
            ],
            "text/html": [
              "<pre style=\"white-space:pre;overflow-x:auto;line-height:normal;font-family:Menlo,'DejaVu Sans Mono',consolas,'Courier New',monospace\"><span style=\"font-weight: bold\"> Total params: </span><span style=\"color: #00af00; text-decoration-color: #00af00\">229,537</span> (896.63 KB)\n",
              "</pre>\n"
            ]
          },
          "metadata": {}
        },
        {
          "output_type": "display_data",
          "data": {
            "text/plain": [
              "\u001b[1m Trainable params: \u001b[0m\u001b[38;5;34m229,537\u001b[0m (896.63 KB)\n"
            ],
            "text/html": [
              "<pre style=\"white-space:pre;overflow-x:auto;line-height:normal;font-family:Menlo,'DejaVu Sans Mono',consolas,'Courier New',monospace\"><span style=\"font-weight: bold\"> Trainable params: </span><span style=\"color: #00af00; text-decoration-color: #00af00\">229,537</span> (896.63 KB)\n",
              "</pre>\n"
            ]
          },
          "metadata": {}
        },
        {
          "output_type": "display_data",
          "data": {
            "text/plain": [
              "\u001b[1m Non-trainable params: \u001b[0m\u001b[38;5;34m0\u001b[0m (0.00 B)\n"
            ],
            "text/html": [
              "<pre style=\"white-space:pre;overflow-x:auto;line-height:normal;font-family:Menlo,'DejaVu Sans Mono',consolas,'Courier New',monospace\"><span style=\"font-weight: bold\"> Non-trainable params: </span><span style=\"color: #00af00; text-decoration-color: #00af00\">0</span> (0.00 B)\n",
              "</pre>\n"
            ]
          },
          "metadata": {}
        }
      ],
      "execution_count": null,
      "metadata": {
        "id": "7YGHa1QKtiXp",
        "colab": {
          "base_uri": "https://localhost:8080/",
          "height": 553
        },
        "outputId": "2a0861b4-c86a-4fe5-d8b8-faa1214d24ea"
      }
    },
    {
      "cell_type": "markdown",
      "source": [
        "*   **`model.summary()`**:  แสดงโครงสร้างของโมเดล  จำนวน parameters ในแต่ละ layer  และจำนวน parameters ทั้งหมด\n"
      ],
      "metadata": {
        "id": "vSlNSjo7tiXp"
      }
    },
    {
      "cell_type": "markdown",
      "source": [
        "##8. Compile โมเดล"
      ],
      "metadata": {
        "id": "epj0LT8a7q8s"
      }
    },
    {
      "cell_type": "code",
      "source": [
        "model.compile(loss='binary_crossentropy',\n",
        "              optimizer='adam',\n",
        "              metrics=['accuracy'])"
      ],
      "outputs": [],
      "execution_count": null,
      "metadata": {
        "id": "T-l4EFY1tiXp"
      }
    },
    {
      "cell_type": "markdown",
      "source": [
        "*   **`model.compile(...)`**:  กำหนดค่าต่างๆ ที่จำเป็นก่อนการ train\n",
        "*   **`loss='binary_crossentropy'`**:  ใช้ Binary Crossentropy เป็น loss function  เหมาะสำหรับปัญหา binary classification (0 หรือ 1)\n",
        "*   **`optimizer='adam'`**:  ใช้ Adam optimizer  เป็น algorithm ที่นิยมสำหรับการปรับ weights ของโมเดล\n",
        "*   **`metrics=['accuracy']`**:  กำหนดให้วัดผล accuracy (ความแม่นยำ) ระหว่างการ train\n",
        "\n",
        "**ข้อสำคัญ**\n",
        "* ส่วนของ `loss`:\n",
        "* กรณีใช้ `label_mode='categorical'` (one-hot encoded labels), loss ต้องเป็น `'categorical_crossentropy'`\n"
      ],
      "metadata": {
        "id": "e-znU3dNtiXp"
      }
    },
    {
      "cell_type": "markdown",
      "source": [
        "##9. Train โมเดล"
      ],
      "metadata": {
        "id": "VlJiZreu5f-L"
      }
    },
    {
      "cell_type": "code",
      "source": [
        "EPOCHS = 6\n",
        "\n",
        "history = model.fit(\n",
        "    train_dataset,\n",
        "    epochs=EPOCHS,\n",
        "    verbose=1)"
      ],
      "outputs": [
        {
          "output_type": "stream",
          "name": "stdout",
          "text": [
            "Epoch 1/6\n",
            "\u001b[1m9/9\u001b[0m \u001b[32m━━━━━━━━━━━━━━━━━━━━\u001b[0m\u001b[37m\u001b[0m \u001b[1m14s\u001b[0m 563ms/step - accuracy: 0.5185 - loss: 10.0292\n",
            "Epoch 2/6\n",
            "\u001b[1m9/9\u001b[0m \u001b[32m━━━━━━━━━━━━━━━━━━━━\u001b[0m\u001b[37m\u001b[0m \u001b[1m13s\u001b[0m 403ms/step - accuracy: 0.7112 - loss: 0.5498\n",
            "Epoch 3/6\n",
            "\u001b[1m9/9\u001b[0m \u001b[32m━━━━━━━━━━━━━━━━━━━━\u001b[0m\u001b[37m\u001b[0m \u001b[1m4s\u001b[0m 316ms/step - accuracy: 0.8526 - loss: 0.3578\n",
            "Epoch 4/6\n",
            "\u001b[1m9/9\u001b[0m \u001b[32m━━━━━━━━━━━━━━━━━━━━\u001b[0m\u001b[37m\u001b[0m \u001b[1m6s\u001b[0m 402ms/step - accuracy: 0.8996 - loss: 0.2433\n",
            "Epoch 5/6\n",
            "\u001b[1m9/9\u001b[0m \u001b[32m━━━━━━━━━━━━━━━━━━━━\u001b[0m\u001b[37m\u001b[0m \u001b[1m4s\u001b[0m 321ms/step - accuracy: 0.9143 - loss: 0.2086\n",
            "Epoch 6/6\n",
            "\u001b[1m9/9\u001b[0m \u001b[32m━━━━━━━━━━━━━━━━━━━━\u001b[0m\u001b[37m\u001b[0m \u001b[1m5s\u001b[0m 320ms/step - accuracy: 0.9514 - loss: 0.1389\n"
          ]
        }
      ],
      "execution_count": null,
      "metadata": {
        "id": "fkKRMVMatiXp",
        "colab": {
          "base_uri": "https://localhost:8080/"
        },
        "outputId": "e63d606e-5f90-416f-bbf5-4fbb6b3b4737"
      }
    },
    {
      "cell_type": "markdown",
      "source": [
        "*   **`EPOCHS = 10`**:  กำหนดจำนวน epochs  คือ จำนวนรอบที่โมเดลจะเรียนรู้จากชุดข้อมูลทั้งหมด\n",
        "*   **`model.fit(...)`**:  เริ่ม train โมเดล\n",
        "    *   **`train_dataset`**:  ชุดข้อมูลสำหรับ train\n",
        "    *   **`epochs=EPOCHS`**:  จำนวน epochs\n",
        "    *   **`verbose=1`**:  แสดง progress bar ระหว่างการ train\n"
      ],
      "metadata": {
        "id": "6npYDL5AtiXp"
      }
    },
    {
      "cell_type": "markdown",
      "source": [
        "##10. แสดงกราฟ Training และ Validation Accuracy"
      ],
      "metadata": {
        "id": "CAj98bXe6LFV"
      }
    },
    {
      "cell_type": "code",
      "source": [
        "acc = history.history['accuracy']\n",
        "loss = history.history['loss']\n",
        "\n",
        "epochs = range(len(acc))\n",
        "\n",
        "plt.plot(epochs, acc, 'r', label='Training accuracy')\n",
        "plt.title('Training and validation accuracy')\n",
        "plt.legend(loc=0)\n",
        "plt.figure()\n",
        "plt.show()"
      ],
      "outputs": [
        {
          "output_type": "display_data",
          "data": {
            "text/plain": [
              "<Figure size 640x480 with 1 Axes>"
            ],
            "image/png": "[encoded data removed]"
          },
          "metadata": {}
        },
        {
          "output_type": "display_data",
          "data": {
            "text/plain": [
              "<Figure size 640x480 with 0 Axes>"
            ]
          },
          "metadata": {}
        }
      ],
      "execution_count": null,
      "metadata": {
        "id": "GxPuA3V3tiXp",
        "colab": {
          "base_uri": "https://localhost:8080/",
          "height": 469
        },
        "outputId": "09406a31-4246-495f-bf75-fdcabb38d307"
      }
    },
    {
      "cell_type": "markdown",
      "source": [
        "*   **`acc = history.history['accuracy']`**: ดึงค่า accuracy จาก training history\n",
        "*   **`loss = history.history['loss']`**: ดึงค่า loss จาก training history\n",
        "*   **`epochs = range(len(acc))`**: สร้าง list ของ epochs\n",
        "*   **`plt.plot(...)`**: วาดกราฟ accuracy ของ training set\n",
        "*   **`plt.title(...)`**: ตั้งชื่อกราฟ\n",
        "*   **`plt.legend(...)`**: แสดง legend\n",
        "*   **`plt.figure()`**: สร้าง figure ใหม่\n",
        "*   **`plt.show()`**: แสดงกราฟ"
      ],
      "metadata": {
        "id": "j_jxxwwJtiXp"
      }
    },
    {
      "cell_type": "markdown",
      "source": [
        "##11. ประเมินโมเดลบน Test Set"
      ],
      "metadata": {
        "id": "QAvqxnpgwnJH"
      }
    },
    {
      "cell_type": "code",
      "source": [
        "loss, acc = model.evaluate(test_dataset, verbose=2)\n",
        "print(\"Trained model, accuracy: {:5.2f}%\".format(100 * acc))"
      ],
      "outputs": [
        {
          "output_type": "stream",
          "name": "stdout",
          "text": [
            "9/9 - 6s - 645ms/step - accuracy: 0.9192 - loss: 0.1704\n",
            "Trained model, accuracy: 91.92%\n"
          ]
        }
      ],
      "execution_count": null,
      "metadata": {
        "id": "Tru_jSXNtiXp",
        "colab": {
          "base_uri": "https://localhost:8080/"
        },
        "outputId": "8661e13e-5172-41d5-8bae-b3c70a244435"
      }
    },
    {
      "cell_type": "markdown",
      "source": [
        "*   **`model.evaluate(test_dataset, verbose=2)`**:  ประเมินโมเดลบนชุดข้อมูล test  เพื่อดูว่าโมเดลมีความสามารถในการทำนายข้อมูลที่ไม่เคยเห็นมาก่อนได้ดีแค่ไหน\n",
        "*   **`print(...)`**:  แสดง accuracy บน test set"
      ],
      "metadata": {
        "id": "2ab7bNfj1pm0"
      }
    },
    {
      "cell_type": "markdown",
      "source": [
        "###ประเมินผล Precision, Recall, F1-Score"
      ],
      "metadata": {
        "id": "MRfzDMt47LMM"
      }
    },
    {
      "cell_type": "code",
      "source": [
        "from sklearn.metrics import classification_report, confusion_matrix\n",
        "import seaborn as sns"
      ],
      "metadata": {
        "id": "nYoeILknyXnN"
      },
      "execution_count": null,
      "outputs": []
    },
    {
      "cell_type": "code",
      "source": [
        "predictions = model.predict(test_dataset)\n",
        "predictions = np.round(predictions).flatten()  # Convert probabilities to 0 or 1\n",
        "\n",
        "true_labels = np.concatenate([y for x, y in test_dataset], axis=0)\n",
        "true_labels = true_labels.flatten()\n",
        "\n",
        "cm = confusion_matrix(true_labels, predictions)\n",
        "# Extract TP, FP, FN, TN from confusion matrix\n",
        "TN, FP, FN, TP = cm.ravel()\n",
        "\n",
        "precision = TP / (TP + FP)\n",
        "recall = TP / (TP + FN)\n",
        "f1_score = 2 * (precision * recall) / (precision + recall)\n",
        "\n",
        "print(f\"Precision: {precision:.2f}\")\n",
        "print(f\"Recall: {recall:.2f}\")\n",
        "print(f\"F1-score: {f1_score:.2f}\")"
      ],
      "metadata": {
        "colab": {
          "base_uri": "https://localhost:8080/"
        },
        "id": "FLlxOO52x7tM",
        "outputId": "6dd324ab-5814-4aa2-b2dd-b920bbe34c08"
      },
      "execution_count": null,
      "outputs": [
        {
          "output_type": "stream",
          "name": "stdout",
          "text": [
            "\u001b[1m9/9\u001b[0m \u001b[32m━━━━━━━━━━━━━━━━━━━━\u001b[0m\u001b[37m\u001b[0m \u001b[1m3s\u001b[0m 318ms/step\n",
            "Precision: 0.99\n",
            "Recall: 0.85\n",
            "F1-score: 0.92\n"
          ]
        }
      ]
    },
    {
      "cell_type": "markdown",
      "source": [
        "* **`from sklearn.metrics import classification_report, confusion_matrix`**: import ฟังก์ชัน `classification_report` และ `confusion_matrix` จาก `sklearn.metrics`\n",
        "    *   `classification_report` จะคำนวณ precision, recall, F1-score, และ support (จำนวน samples ในแต่ละ class) ให้โดยอัตโนมัติ\n",
        "    *   `confusion_matrix` จะสร้าง confusion matrix\n",
        "* **`import seaborn as sns`**: เพิ่มการ import `seaborn` `seaborn` เป็นไลบรารีที่สร้างขึ้นบน `matplotlib` ทำให้การสร้าง heatmap สวยงามและง่ายขึ้น\n",
        "* **`predictions = model.predict(test_dataset)`**:  ใช้โมเดลทำนาย (predict) บน test set  ผลลัพธ์ที่ได้จะเป็น probabilities (ค่าระหว่าง 0 ถึง 1)\n",
        "* **`predictions = np.round(predictions).flatten()`**: แปลง probabilities ให้เป็น 0 หรือ 1 โดยใช้ `np.round()`  และ `.flatten()` ทำให้เป็น 1D array\n",
        "* **`true_labels = np.concatenate([y for x, y in test_dataset], axis=0)`**: ดึง labels ที่ถูกต้อง (true labels) จาก `test_dataset`\n",
        "   *   `test_dataset` จะ return เป็น batches, ต้องใช้ `np.concatenate` รวม labels จากทุก batches เข้าด้วยกัน\n",
        "   *   `axis=0` รวมตามแนวแกนตั้ง (row-wise)\n",
        "* **`true_labels = true_labels.flatten()`**: ทำให้ `true_labels` กลายเป็น array 1 มิติ\n",
        "\n",
        "* **`print(classification_report(true_labels, predictions))`**:  แสดง classification report (precision, recall, F1-score, * **`cm = confusion_matrix(true_labels, predictions)`**: สร้าง confusion matrix\n",
        "* **`print(\"Confusion Matrix:\")`**\n",
        "    **`print(cm)`**: แสดง confusion matrix\n",
        "* **`TN, FP, FN, TP = cm.ravel()`**:  unpack confusion matrix  โดย:\n",
        "    *   `TN`: True Negatives (ทำนายว่าเป็น \"ม้า\" และถูกต้อง)\n",
        "    *   `FP`: False Positives (ทำนายว่าเป็น \"คน\" แต่จริงๆ เป็น \"ม้า\")\n",
        "    *   `FN`: False Negatives (ทำนายว่าเป็น \"ม้า\" แต่จริงๆ เป็น \"คน\")\n",
        "    *   `TP`: True Positives (ทำนายว่าเป็น \"คน\" และถูกต้อง)\n",
        "* **คำนวณ Precision, Recall, F1-score**:\n",
        "    *   `precision = TP / (TP + FP)`\n",
        "    *   `recall = TP / (TP + FN)`\n",
        "    *   `f1_score = 2 * (precision * recall) / (precision + recall)`\n",
        "* **`print(...)`**: แสดงค่าที่คำนวณได้\n"
      ],
      "metadata": {
        "id": "bsE2gxzKykxU"
      }
    },
    {
      "cell_type": "markdown",
      "source": [
        "###Confusion matrix"
      ],
      "metadata": {
        "id": "yLNXo0BN7ZPD"
      }
    },
    {
      "cell_type": "code",
      "source": [
        "conf_mat = confusion_matrix(true_labels, predictions)\n",
        "\n",
        "class_names = ['Horse', 'Human']\n",
        "plt.figure(figsize=(6, 4))\n",
        "sns.heatmap(conf_mat, annot=True, fmt='d', cmap='Blues', cbar=False,\n",
        "            xticklabels=class_names, yticklabels=class_names)\n",
        "plt.xlabel('Predicted Label')\n",
        "plt.ylabel('True Label')\n",
        "plt.title('Confusion Matrix')\n",
        "plt.show()"
      ],
      "metadata": {
        "colab": {
          "base_uri": "https://localhost:8080/",
          "height": 410
        },
        "id": "klYp_OB3z1zr",
        "outputId": "d906a926-70e1-42f6-e374-1bdbb537133f"
      },
      "execution_count": null,
      "outputs": [
        {
          "output_type": "display_data",
          "data": {
            "text/plain": [
              "<Figure size 600x400 with 1 Axes>"
            ],
            "image/png": "[encoded data removed]"
          },
          "metadata": {}
        }
      ]
    },
    {
      "cell_type": "markdown",
      "source": [
        "* **`xticklabels=class_names, yticklabels=class_names`**:  ในส่วนของการสร้าง heatmap (`sns.heatmap(...)`) ได้แก้ไข `xticklabels` และ `yticklabels` ให้เป็น `['Horse', 'Human']` แทนที่จะเป็นตัวเลข 0 และ 1  เพื่อให้สอดคล้องกับ labels ของเรา (ม้า และ คน) ทำให้ heatmap อ่านง่ายขึ้น (**กรณี multiple class ให้เป็น list เรียงลำดับ class ให้ตรง**)\n",
        "\n",
        "*   **`plt.figure(figsize=(6, 4))`**:  กำหนดขนาดของ figure (heatmap) ที่จะแสดง\n",
        "*   **`sns.heatmap(...)`**:  เป็นฟังก์ชันหลักในการสร้าง heatmap\n",
        "    *   `conf_mat`: คือ confusion matrix ที่เราคำนวณได้\n",
        "    *   `annot=True`: แสดงตัวเลขในแต่ละช่องของ heatmap\n",
        "    *   `fmt='d'` : กำหนด format ของตัวเลขให้เป็น integer (decimal)\n",
        "    *   `cmap='Blues'` : ใช้ colormap สีน้ำเงิน\n",
        "    *   `cbar=False` : ไม่แสดง color bar ด้านข้าง\n",
        "    *   `xticklabels` และ `yticklabels`: กำหนด labels ของแกน x และ y ตามลำดับ\n",
        "*   **`plt.xlabel(...)`, `plt.ylabel(...)`, `plt.title(...)`**:  ตั้งชื่อแกน x, แกน y, และ title ของ heatmap\n",
        "\n",
        "จะได้ heatmap ที่แสดง confusion matrix ซึ่งจะบอกว่าโมเดลทำนายถูก/ผิด ในแต่ละ class (ม้า/คน) เป็นจำนวนเท่าไหร่ ทำให้เราเห็นภาพรวมของประสิทธิภาพของโมเดลได้ชัดเจน และเข้าใจได้ง่ายกว่าการดูตัวเลขดิบๆ\n"
      ],
      "metadata": {
        "id": "l_tleAME0B9x"
      }
    },
    {
      "cell_type": "markdown",
      "source": [
        "##12. บันทึกและโหลดโมเดล"
      ],
      "metadata": {
        "id": "xvCfuNl4tiXq"
      }
    },
    {
      "cell_type": "code",
      "source": [
        "saved_model_path = '/content/drive/MyDrive/AI/cst_train_horh_v1.keras'\n",
        "model.save(saved_model_path)\n"
      ],
      "outputs": [],
      "execution_count": null,
      "metadata": {
        "id": "3UItdVg3tiXq"
      }
    },
    {
      "cell_type": "markdown",
      "source": [
        "*   **`saved_model_path = ...`**: กำหนด path ที่จะบันทึกโมเดล\n",
        "*   **`model.save(saved_model_path)`**: บันทึกโมเดล\n"
      ],
      "metadata": {
        "id": "x1PfDZXVtiXq"
      }
    },
    {
      "cell_type": "code",
      "source": [
        "new_model = tf.keras.models.load_model(saved_model_path)\n",
        "\n",
        "new_model.summary()\n",
        "\n",
        "loss, acc = new_model.evaluate(test_dataset, verbose=2)\n",
        "print('Restored model, accuracy: {:5.2f}%'.format(100 * acc))"
      ],
      "metadata": {
        "colab": {
          "base_uri": "https://localhost:8080/",
          "height": 604
        },
        "id": "OqHWOEy-uHNo",
        "outputId": "995adf45-0001-4479-b7b6-41aaffb0a244"
      },
      "execution_count": null,
      "outputs": [
        {
          "output_type": "display_data",
          "data": {
            "text/plain": [
              "\u001b[1mModel: \"sequential\"\u001b[0m\n"
            ],
            "text/html": [
              "<pre style=\"white-space:pre;overflow-x:auto;line-height:normal;font-family:Menlo,'DejaVu Sans Mono',consolas,'Courier New',monospace\"><span style=\"font-weight: bold\">Model: \"sequential\"</span>\n",
              "</pre>\n"
            ]
          },
          "metadata": {}
        },
        {
          "output_type": "display_data",
          "data": {
            "text/plain": [
              "┏━━━━━━━━━━━━━━━━━━━━━━━━━━━━━━━━━━━━━━┳━━━━━━━━━━━━━━━━━━━━━━━━━━━━━┳━━━━━━━━━━━━━━━━━┓\n",
              "┃\u001b[1m \u001b[0m\u001b[1mLayer (type)                        \u001b[0m\u001b[1m \u001b[0m┃\u001b[1m \u001b[0m\u001b[1mOutput Shape               \u001b[0m\u001b[1m \u001b[0m┃\u001b[1m \u001b[0m\u001b[1m        Param #\u001b[0m\u001b[1m \u001b[0m┃\n",
              "┡━━━━━━━━━━━━━━━━━━━━━━━━━━━━━━━━━━━━━━╇━━━━━━━━━━━━━━━━━━━━━━━━━━━━━╇━━━━━━━━━━━━━━━━━┩\n",
              "│ conv2d (\u001b[38;5;33mConv2D\u001b[0m)                      │ (\u001b[38;5;45mNone\u001b[0m, \u001b[38;5;34m148\u001b[0m, \u001b[38;5;34m148\u001b[0m, \u001b[38;5;34m16\u001b[0m)        │             \u001b[38;5;34m448\u001b[0m │\n",
              "├──────────────────────────────────────┼─────────────────────────────┼─────────────────┤\n",
              "│ max_pooling2d (\u001b[38;5;33mMaxPooling2D\u001b[0m)         │ (\u001b[38;5;45mNone\u001b[0m, \u001b[38;5;34m74\u001b[0m, \u001b[38;5;34m74\u001b[0m, \u001b[38;5;34m16\u001b[0m)          │               \u001b[38;5;34m0\u001b[0m │\n",
              "├──────────────────────────────────────┼─────────────────────────────┼─────────────────┤\n",
              "│ conv2d_1 (\u001b[38;5;33mConv2D\u001b[0m)                    │ (\u001b[38;5;45mNone\u001b[0m, \u001b[38;5;34m72\u001b[0m, \u001b[38;5;34m72\u001b[0m, \u001b[38;5;34m32\u001b[0m)          │           \u001b[38;5;34m4,640\u001b[0m │\n",
              "├──────────────────────────────────────┼─────────────────────────────┼─────────────────┤\n",
              "│ max_pooling2d_1 (\u001b[38;5;33mMaxPooling2D\u001b[0m)       │ (\u001b[38;5;45mNone\u001b[0m, \u001b[38;5;34m36\u001b[0m, \u001b[38;5;34m36\u001b[0m, \u001b[38;5;34m32\u001b[0m)          │               \u001b[38;5;34m0\u001b[0m │\n",
              "├──────────────────────────────────────┼─────────────────────────────┼─────────────────┤\n",
              "│ conv2d_2 (\u001b[38;5;33mConv2D\u001b[0m)                    │ (\u001b[38;5;45mNone\u001b[0m, \u001b[38;5;34m34\u001b[0m, \u001b[38;5;34m34\u001b[0m, \u001b[38;5;34m64\u001b[0m)          │          \u001b[38;5;34m18,496\u001b[0m │\n",
              "├──────────────────────────────────────┼─────────────────────────────┼─────────────────┤\n",
              "│ max_pooling2d_2 (\u001b[38;5;33mMaxPooling2D\u001b[0m)       │ (\u001b[38;5;45mNone\u001b[0m, \u001b[38;5;34m17\u001b[0m, \u001b[38;5;34m17\u001b[0m, \u001b[38;5;34m64\u001b[0m)          │               \u001b[38;5;34m0\u001b[0m │\n",
              "├──────────────────────────────────────┼─────────────────────────────┼─────────────────┤\n",
              "│ conv2d_3 (\u001b[38;5;33mConv2D\u001b[0m)                    │ (\u001b[38;5;45mNone\u001b[0m, \u001b[38;5;34m15\u001b[0m, \u001b[38;5;34m15\u001b[0m, \u001b[38;5;34m64\u001b[0m)          │          \u001b[38;5;34m36,928\u001b[0m │\n",
              "├──────────────────────────────────────┼─────────────────────────────┼─────────────────┤\n",
              "│ max_pooling2d_3 (\u001b[38;5;33mMaxPooling2D\u001b[0m)       │ (\u001b[38;5;45mNone\u001b[0m, \u001b[38;5;34m7\u001b[0m, \u001b[38;5;34m7\u001b[0m, \u001b[38;5;34m64\u001b[0m)            │               \u001b[38;5;34m0\u001b[0m │\n",
              "├──────────────────────────────────────┼─────────────────────────────┼─────────────────┤\n",
              "│ conv2d_4 (\u001b[38;5;33mConv2D\u001b[0m)                    │ (\u001b[38;5;45mNone\u001b[0m, \u001b[38;5;34m5\u001b[0m, \u001b[38;5;34m5\u001b[0m, \u001b[38;5;34m64\u001b[0m)            │          \u001b[38;5;34m36,928\u001b[0m │\n",
              "├──────────────────────────────────────┼─────────────────────────────┼─────────────────┤\n",
              "│ max_pooling2d_4 (\u001b[38;5;33mMaxPooling2D\u001b[0m)       │ (\u001b[38;5;45mNone\u001b[0m, \u001b[38;5;34m2\u001b[0m, \u001b[38;5;34m2\u001b[0m, \u001b[38;5;34m64\u001b[0m)            │               \u001b[38;5;34m0\u001b[0m │\n",
              "├──────────────────────────────────────┼─────────────────────────────┼─────────────────┤\n",
              "│ flatten (\u001b[38;5;33mFlatten\u001b[0m)                    │ (\u001b[38;5;45mNone\u001b[0m, \u001b[38;5;34m256\u001b[0m)                 │               \u001b[38;5;34m0\u001b[0m │\n",
              "├──────────────────────────────────────┼─────────────────────────────┼─────────────────┤\n",
              "│ dense (\u001b[38;5;33mDense\u001b[0m)                        │ (\u001b[38;5;45mNone\u001b[0m, \u001b[38;5;34m512\u001b[0m)                 │         \u001b[38;5;34m131,584\u001b[0m │\n",
              "├──────────────────────────────────────┼─────────────────────────────┼─────────────────┤\n",
              "│ dense_1 (\u001b[38;5;33mDense\u001b[0m)                      │ (\u001b[38;5;45mNone\u001b[0m, \u001b[38;5;34m1\u001b[0m)                   │             \u001b[38;5;34m513\u001b[0m │\n",
              "└──────────────────────────────────────┴─────────────────────────────┴─────────────────┘\n"
            ],
            "text/html": [
              "<pre style=\"white-space:pre;overflow-x:auto;line-height:normal;font-family:Menlo,'DejaVu Sans Mono',consolas,'Courier New',monospace\">┏━━━━━━━━━━━━━━━━━━━━━━━━━━━━━━━━━━━━━━┳━━━━━━━━━━━━━━━━━━━━━━━━━━━━━┳━━━━━━━━━━━━━━━━━┓\n",
              "┃<span style=\"font-weight: bold\"> Layer (type)                         </span>┃<span style=\"font-weight: bold\"> Output Shape                </span>┃<span style=\"font-weight: bold\">         Param # </span>┃\n",
              "┡━━━━━━━━━━━━━━━━━━━━━━━━━━━━━━━━━━━━━━╇━━━━━━━━━━━━━━━━━━━━━━━━━━━━━╇━━━━━━━━━━━━━━━━━┩\n",
              "│ conv2d (<span style=\"color: #0087ff; text-decoration-color: #0087ff\">Conv2D</span>)                      │ (<span style=\"color: #00d7ff; text-decoration-color: #00d7ff\">None</span>, <span style=\"color: #00af00; text-decoration-color: #00af00\">148</span>, <span style=\"color: #00af00; text-decoration-color: #00af00\">148</span>, <span style=\"color: #00af00; text-decoration-color: #00af00\">16</span>)        │             <span style=\"color: #00af00; text-decoration-color: #00af00\">448</span> │\n",
              "├──────────────────────────────────────┼─────────────────────────────┼─────────────────┤\n",
              "│ max_pooling2d (<span style=\"color: #0087ff; text-decoration-color: #0087ff\">MaxPooling2D</span>)         │ (<span style=\"color: #00d7ff; text-decoration-color: #00d7ff\">None</span>, <span style=\"color: #00af00; text-decoration-color: #00af00\">74</span>, <span style=\"color: #00af00; text-decoration-color: #00af00\">74</span>, <span style=\"color: #00af00; text-decoration-color: #00af00\">16</span>)          │               <span style=\"color: #00af00; text-decoration-color: #00af00\">0</span> │\n",
              "├──────────────────────────────────────┼─────────────────────────────┼─────────────────┤\n",
              "│ conv2d_1 (<span style=\"color: #0087ff; text-decoration-color: #0087ff\">Conv2D</span>)                    │ (<span style=\"color: #00d7ff; text-decoration-color: #00d7ff\">None</span>, <span style=\"color: #00af00; text-decoration-color: #00af00\">72</span>, <span style=\"color: #00af00; text-decoration-color: #00af00\">72</span>, <span style=\"color: #00af00; text-decoration-color: #00af00\">32</span>)          │           <span style=\"color: #00af00; text-decoration-color: #00af00\">4,640</span> │\n",
              "├──────────────────────────────────────┼─────────────────────────────┼─────────────────┤\n",
              "│ max_pooling2d_1 (<span style=\"color: #0087ff; text-decoration-color: #0087ff\">MaxPooling2D</span>)       │ (<span style=\"color: #00d7ff; text-decoration-color: #00d7ff\">None</span>, <span style=\"color: #00af00; text-decoration-color: #00af00\">36</span>, <span style=\"color: #00af00; text-decoration-color: #00af00\">36</span>, <span style=\"color: #00af00; text-decoration-color: #00af00\">32</span>)          │               <span style=\"color: #00af00; text-decoration-color: #00af00\">0</span> │\n",
              "├──────────────────────────────────────┼─────────────────────────────┼─────────────────┤\n",
              "│ conv2d_2 (<span style=\"color: #0087ff; text-decoration-color: #0087ff\">Conv2D</span>)                    │ (<span style=\"color: #00d7ff; text-decoration-color: #00d7ff\">None</span>, <span style=\"color: #00af00; text-decoration-color: #00af00\">34</span>, <span style=\"color: #00af00; text-decoration-color: #00af00\">34</span>, <span style=\"color: #00af00; text-decoration-color: #00af00\">64</span>)          │          <span style=\"color: #00af00; text-decoration-color: #00af00\">18,496</span> │\n",
              "├──────────────────────────────────────┼─────────────────────────────┼─────────────────┤\n",
              "│ max_pooling2d_2 (<span style=\"color: #0087ff; text-decoration-color: #0087ff\">MaxPooling2D</span>)       │ (<span style=\"color: #00d7ff; text-decoration-color: #00d7ff\">None</span>, <span style=\"color: #00af00; text-decoration-color: #00af00\">17</span>, <span style=\"color: #00af00; text-decoration-color: #00af00\">17</span>, <span style=\"color: #00af00; text-decoration-color: #00af00\">64</span>)          │               <span style=\"color: #00af00; text-decoration-color: #00af00\">0</span> │\n",
              "├──────────────────────────────────────┼─────────────────────────────┼─────────────────┤\n",
              "│ conv2d_3 (<span style=\"color: #0087ff; text-decoration-color: #0087ff\">Conv2D</span>)                    │ (<span style=\"color: #00d7ff; text-decoration-color: #00d7ff\">None</span>, <span style=\"color: #00af00; text-decoration-color: #00af00\">15</span>, <span style=\"color: #00af00; text-decoration-color: #00af00\">15</span>, <span style=\"color: #00af00; text-decoration-color: #00af00\">64</span>)          │          <span style=\"color: #00af00; text-decoration-color: #00af00\">36,928</span> │\n",
              "├──────────────────────────────────────┼─────────────────────────────┼─────────────────┤\n",
              "│ max_pooling2d_3 (<span style=\"color: #0087ff; text-decoration-color: #0087ff\">MaxPooling2D</span>)       │ (<span style=\"color: #00d7ff; text-decoration-color: #00d7ff\">None</span>, <span style=\"color: #00af00; text-decoration-color: #00af00\">7</span>, <span style=\"color: #00af00; text-decoration-color: #00af00\">7</span>, <span style=\"color: #00af00; text-decoration-color: #00af00\">64</span>)            │               <span style=\"color: #00af00; text-decoration-color: #00af00\">0</span> │\n",
              "├──────────────────────────────────────┼─────────────────────────────┼─────────────────┤\n",
              "│ conv2d_4 (<span style=\"color: #0087ff; text-decoration-color: #0087ff\">Conv2D</span>)                    │ (<span style=\"color: #00d7ff; text-decoration-color: #00d7ff\">None</span>, <span style=\"color: #00af00; text-decoration-color: #00af00\">5</span>, <span style=\"color: #00af00; text-decoration-color: #00af00\">5</span>, <span style=\"color: #00af00; text-decoration-color: #00af00\">64</span>)            │          <span style=\"color: #00af00; text-decoration-color: #00af00\">36,928</span> │\n",
              "├──────────────────────────────────────┼─────────────────────────────┼─────────────────┤\n",
              "│ max_pooling2d_4 (<span style=\"color: #0087ff; text-decoration-color: #0087ff\">MaxPooling2D</span>)       │ (<span style=\"color: #00d7ff; text-decoration-color: #00d7ff\">None</span>, <span style=\"color: #00af00; text-decoration-color: #00af00\">2</span>, <span style=\"color: #00af00; text-decoration-color: #00af00\">2</span>, <span style=\"color: #00af00; text-decoration-color: #00af00\">64</span>)            │               <span style=\"color: #00af00; text-decoration-color: #00af00\">0</span> │\n",
              "├──────────────────────────────────────┼─────────────────────────────┼─────────────────┤\n",
              "│ flatten (<span style=\"color: #0087ff; text-decoration-color: #0087ff\">Flatten</span>)                    │ (<span style=\"color: #00d7ff; text-decoration-color: #00d7ff\">None</span>, <span style=\"color: #00af00; text-decoration-color: #00af00\">256</span>)                 │               <span style=\"color: #00af00; text-decoration-color: #00af00\">0</span> │\n",
              "├──────────────────────────────────────┼─────────────────────────────┼─────────────────┤\n",
              "│ dense (<span style=\"color: #0087ff; text-decoration-color: #0087ff\">Dense</span>)                        │ (<span style=\"color: #00d7ff; text-decoration-color: #00d7ff\">None</span>, <span style=\"color: #00af00; text-decoration-color: #00af00\">512</span>)                 │         <span style=\"color: #00af00; text-decoration-color: #00af00\">131,584</span> │\n",
              "├──────────────────────────────────────┼─────────────────────────────┼─────────────────┤\n",
              "│ dense_1 (<span style=\"color: #0087ff; text-decoration-color: #0087ff\">Dense</span>)                      │ (<span style=\"color: #00d7ff; text-decoration-color: #00d7ff\">None</span>, <span style=\"color: #00af00; text-decoration-color: #00af00\">1</span>)                   │             <span style=\"color: #00af00; text-decoration-color: #00af00\">513</span> │\n",
              "└──────────────────────────────────────┴─────────────────────────────┴─────────────────┘\n",
              "</pre>\n"
            ]
          },
          "metadata": {}
        },
        {
          "output_type": "display_data",
          "data": {
            "text/plain": [
              "\u001b[1m Total params: \u001b[0m\u001b[38;5;34m688,613\u001b[0m (2.63 MB)\n"
            ],
            "text/html": [
              "<pre style=\"white-space:pre;overflow-x:auto;line-height:normal;font-family:Menlo,'DejaVu Sans Mono',consolas,'Courier New',monospace\"><span style=\"font-weight: bold\"> Total params: </span><span style=\"color: #00af00; text-decoration-color: #00af00\">688,613</span> (2.63 MB)\n",
              "</pre>\n"
            ]
          },
          "metadata": {}
        },
        {
          "output_type": "display_data",
          "data": {
            "text/plain": [
              "\u001b[1m Trainable params: \u001b[0m\u001b[38;5;34m229,537\u001b[0m (896.63 KB)\n"
            ],
            "text/html": [
              "<pre style=\"white-space:pre;overflow-x:auto;line-height:normal;font-family:Menlo,'DejaVu Sans Mono',consolas,'Courier New',monospace\"><span style=\"font-weight: bold\"> Trainable params: </span><span style=\"color: #00af00; text-decoration-color: #00af00\">229,537</span> (896.63 KB)\n",
              "</pre>\n"
            ]
          },
          "metadata": {}
        },
        {
          "output_type": "display_data",
          "data": {
            "text/plain": [
              "\u001b[1m Non-trainable params: \u001b[0m\u001b[38;5;34m0\u001b[0m (0.00 B)\n"
            ],
            "text/html": [
              "<pre style=\"white-space:pre;overflow-x:auto;line-height:normal;font-family:Menlo,'DejaVu Sans Mono',consolas,'Courier New',monospace\"><span style=\"font-weight: bold\"> Non-trainable params: </span><span style=\"color: #00af00; text-decoration-color: #00af00\">0</span> (0.00 B)\n",
              "</pre>\n"
            ]
          },
          "metadata": {}
        },
        {
          "output_type": "display_data",
          "data": {
            "text/plain": [
              "\u001b[1m Optimizer params: \u001b[0m\u001b[38;5;34m459,076\u001b[0m (1.75 MB)\n"
            ],
            "text/html": [
              "<pre style=\"white-space:pre;overflow-x:auto;line-height:normal;font-family:Menlo,'DejaVu Sans Mono',consolas,'Courier New',monospace\"><span style=\"font-weight: bold\"> Optimizer params: </span><span style=\"color: #00af00; text-decoration-color: #00af00\">459,076</span> (1.75 MB)\n",
              "</pre>\n"
            ]
          },
          "metadata": {}
        },
        {
          "output_type": "stream",
          "name": "stdout",
          "text": [
            "9/9 - 5s - 572ms/step - accuracy: 0.9192 - loss: 0.1704\n",
            "Restored model, accuracy: 91.92%\n"
          ]
        }
      ]
    },
    {
      "cell_type": "markdown",
      "source": [
        "*   **`new_model = tf.keras.models.load_model(saved_model_path)`**: โหลดโมเดลที่บันทึกไว้\n",
        "*   **`new_model.summary()`**: แสดง summary ของโมเดลที่โหลดมา\n",
        "*   **`loss, acc = new_model.evaluate(test_dataset, verbose=2)`**: ประเมิน accuracy ของโมเดลที่โหลดมา (ควรได้ค่าเท่ากับก่อนบันทึก)"
      ],
      "metadata": {
        "id": "r9uQhv7puKyd"
      }
    }
  ],
  "metadata": {
    "colab": {
      "provenance": [],
      "gpuType": "T4",
      "include_colab_link": true
    },
    "kernelspec": {
      "display_name": "Python 3",
      "name": "python3"
    },
    "accelerator": "GPU"
  },
  "nbformat": 4,
  "nbformat_minor": 0
}